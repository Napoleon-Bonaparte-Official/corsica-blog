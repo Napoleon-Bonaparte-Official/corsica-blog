{
 "cells": [
  {
   "cell_type": "markdown",
   "metadata": {},
   "source": [
    "---\n",
    "toc: true\n",
    "comments: true\n",
    "layout: post\n",
    "title: Big Idea 5.6 Safe Computing\n",
    "description: hacker\n",
    "type: hacks\n",
    "courses: { compsci: {week: 17} }\n",
    "---"
   ]
  },
  {
   "cell_type": "markdown",
   "metadata": {},
   "source": [
    "# Big Idea 5.6 Safe Computing\n",
    "![Banner](https://media.istockphoto.com/id/875326436/photo/cybersecurity-digital-globe-with-blueprint.jpg?s=1024x1024&w=is&k=20&c=6fcixWvWK7g-e91eI3JQJbGo82iCJnmUNC-Yl2z-dt0=)\n",
    "\n",
    "# What is Safe Computing?\n",
    "\n",
    "## Personal Identifiable Information (PII)\n",
    "- Information about you that is **specific** to you\n",
    "- Ex: Name, Date of Birth, SSN, Bank Account info, \n",
    "<img src=\"https://i.kym-cdn.com/entries/icons/original/000/042/184/handsomestaringeagle.jpg\" width=200>\n",
    "\n",
    "## PII considerations\n",
    "<!-- stuff -->\n",
    "\n",
    "## Beware, Establish practices for your own Safety\n",
    "### Authentication\n",
    "Authentication measures protect devices and information from unauthorized access.\n",
    "#### Authentication Measures\n",
    "##### Strong Passwords\n",
    "The easier the password is to guess, the easier it is to make a mess.\n",
    "Strong passwords:\n",
    "- 10 or more characters \n",
    "- Must contain a symbol\n",
    "- Must contain a number\n",
    "- Must contain lowercase and uppercase letters\n",
    "- Avoid dictionary words/things known about you (ex. “Password”, “123456”, your birthday, your name, your pet’s name, etc.)\n",
    "The above are things hackers can look for while guessing your password\n",
    "##### Types of Authentication\n",
    "- What the user knows (ex. passwords, answers to security questions, etc.)\n",
    "- What you are (ex. biometric data like eye scan, palm print, thumbprint, etc.)\n",
    "- What you have (ex. keycards, etc.)\n",
    "##### Multi-factor Authentication\n",
    "When one or more of these authentication measures are used, it is considered multi-factor authentication.\n",
    "\n",
    "### Virus and Malware\n",
    "#### Virus\n",
    "- Viruses can allow unauthorized access by modifying the operating system to accept any user without authentication. \n",
    "- Virus malicious programs that can copy themselves and gain access to systems that they are not supposed to be in. \n",
    "#### Malware\n",
    "- Malware is often intended to damage a computing system or take partial control over its operation.\n",
    "- Infiltrates a system by posing as legitimate programs or by attaching itself to legitimate programs, like an email attachment.\n",
    "- Malware is often sent in attachments to things in email. Often they request you to click on an attachment and it starts the process of adding a virus to your computer.\n",
    "#### Precautions\n",
    "- Run Virus scans to help prevent malicious code from getting into and affecting your system. \n",
    "- Keeping the operating system and other software up to date can also fix errors that would allow a virus or malware to compromise a system. \n",
    "\n",
    "\n",
    "## Factors to Increase Security of System\n",
    "\n",
    "\n",
    "## Nefarious Uses of Internet\n"
   ]
  }
 ],
 "metadata": {
  "language_info": {
   "name": "python"
  }
 },
 "nbformat": 4,
 "nbformat_minor": 2
}
