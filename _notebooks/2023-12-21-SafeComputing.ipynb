{
 "cells": [
  {
   "cell_type": "markdown",
   "metadata": {},
   "source": [
    "---\n",
    "toc: true\n",
    "comments: true\n",
    "layout: post\n",
    "title: 5.6 Safe Computing\n",
    "description: Safe Computing lesson\n",
    "type: hacks\n",
    "courses: { compsci: {week: 17} }\n",
    "---"
   ]
  },
  {
   "cell_type": "markdown",
   "metadata": {},
   "source": [
    "# Big Idea 5.6: Safe Computing\n",
    "<!-- insert some image here -->\n",
    "\n",
    "# What is Safe Computing?\n",
    "<!-- stuff -->\n",
    "\n",
    "# Personal Identifiable Information(PII)\n",
    "<!-- stuff -->\n",
    "\n",
    "# PII considerations\n",
    "<!-- stuff -->\n",
    "\n",
    "# Beware, Establish practices for your own Safety\n",
    "\n",
    "\n",
    "# Factors to Increase Security of System\n",
    "\n",
    "# Nefarious Uses of Internet\n"
   ]
  }
 ],
 "metadata": {
  "language_info": {
   "name": "python"
  }
 },
 "nbformat": 4,
 "nbformat_minor": 2
}
