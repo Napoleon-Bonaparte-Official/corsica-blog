{
 "cells": [
  {
   "cell_type": "markdown",
   "metadata": {},
   "source": [
    "---\n",
    "toc: false\n",
    "comments: true\n",
    "layout: post\n",
    "title: Checkpoint\n",
    "description: Checkpoint A and B\n",
    "type: hacks\n",
    "courses: { compsci: {week: 18} }\n",
    "---"
   ]
  },
  {
   "cell_type": "markdown",
   "metadata": {},
   "source": [
    "## Checkpoint A: Plan/In Progress\n",
    "\n",
    "\n",
    "### Elements of design\n",
    "\n",
    "Currently, we are working on the layout of the site for design. Our site is extremely design heavy and backend heavy, but I stress the design a lot because it matters more for what we are doing. Last trimester’s project was design-based, but ours is even more so (although backend is equally important). We are trying to make a kids video content platform and we want to ensure that the layout of the site is very organized and super easy to use (especially for small children). For these reasons, we need to think about user accessibility and inclusiveness as much as possible and think about how a child could use our platform.\n",
    "\n",
    "\n",
    "### Evidence of design asset ownership:\n",
    "\n",
    "Right now, we haven’t got any external assets but we are most likely going to use the template code that is already given to us by the teachers. Any external assets and tools will be listed and updated regularly. Other design assets include a draft we made but that is completely ours (well, we did use Canva).\n",
    "\n",
    "\n",
    "## Checkpoint B: Plan/Code Ready\n",
    "\n",
    "[Not needed now]\n",
    "\n",
    "\n",
    "## Design Assets\n",
    "\n",
    "\n",
    "## Get comfortable with the design step. Spend the time and effort to go from uncomfortable 'till you get started to get a little feel. Iteration starts with discomfort.\n",
    "\n",
    "\n",
    "### Story Mapping and Test Planning\n",
    "\n",
    "[Story Mapping and Test Planning](https://drive.google.com/file/d/1uhuIgZjCksR4ZZorlarzBp0rUJZOfUlY/view?usp=sharing)\n",
    "\n",
    "\n",
    "### Design Screens\n",
    "\n",
    "Use tools to design screens before implementation is Figma or Canva or simple Markdown/HTML/CSS screens\n",
    "\n",
    "[Canva Page for our Project](https://www.canva.com/design/DAF5n0Wk93c/CLlKk9TaLgKAAflz9d3IZw/edit?utm_content=DAF5n0Wk93c&utm_campaign=designshare&utm_medium=link2&utm_source=sharebutton)\n",
    "\n",
    "\n",
    "### UML Activity\n",
    "\n",
    "[Logon Screen](https://drive.google.com/file/d/1oSfXyq8nOWYmB5_yr00Yex9Lmu33NLxb/view?usp=sharing)\n",
    "\n",
    "[Home Screen](https://drive.google.com/file/d/1vl2PfYRHH5vK03-YYBqr1fMzozxanw2L/view?usp=sharing)\n",
    "\n",
    "\n",
    "### UML Class\n",
    "\n",
    "[Class](https://drive.google.com/file/d/1_dzOH3soRZ8dO152b4kDK9VckQfWCwLR/view?usp=sharing)\n"
   ]
  }
 ],
 "metadata": {
  "kernelspec": {
   "display_name": "Python 3",
   "language": "python",
   "name": "python3"
  },
  "language_info": {
   "name": "python",
   "version": "3.10.12"
  }
 },
 "nbformat": 4,
 "nbformat_minor": 2
}
