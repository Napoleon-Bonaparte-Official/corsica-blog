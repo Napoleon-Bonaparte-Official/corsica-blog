{
 "cells": [
  {
   "cell_type": "markdown",
   "metadata": {},
   "source": [
    "---\n",
    "toc: false\n",
    "comments: true\n",
    "layout: post\n",
    "title: Tips ML\n",
    "description: Tips ML Integration \n",
    "type: hacks\n",
    "courses: { compsci: {week: 18} }\n",
    "---"
   ]
  },
  {
   "cell_type": "markdown",
   "metadata": {},
   "source": [
    "### Our group worked on a tips ML project that involves predicting the tip amount given certain values (day, total bill, sex, smoker, time, party size)."
   ]
  },
  {
   "cell_type": "markdown",
   "metadata": {},
   "source": [
    "| Task # | Task |\n",
    "| ----- | ----- |\n",
    "| Task 1 | Creating the model for the dataset Part 1 - Make the clean and train functions to match the variables and features of our own 'Tips' project. This involves making sure that the data from the dataset loads properly and that the class is initiated where you can get the dataset when called through a getter function. Cleaning involves onehot-encoding and  loading it into a pandas dataframe. Additionally, we dropped missing values in the data frame and also redefined certain variables to match our regression.   |\n",
    "| Task 2 | Creating the model for the dataset Part 2 - We developed the predict function in the model to predict the tip amount based on the provided values. For this part of the code, we tried to implement our own predict functions. The two ways of calculating outputted slightly different values. For example, some of the predicted tip amounts would differ by around 3 cents. The reason for this difference is due to the fact that there are  |\n",
    "| Task 3 |  |\n",
    "| Task 4 |  |\n",
    "| Task 5 |  |\n",
    "| Task 6 |  |\n",
    "| Task 7 |  |\n",
    "| Task 8 |  |\n"
   ]
  }
 ],
 "metadata": {
  "language_info": {
   "name": "python"
  }
 },
 "nbformat": 4,
 "nbformat_minor": 2
}
