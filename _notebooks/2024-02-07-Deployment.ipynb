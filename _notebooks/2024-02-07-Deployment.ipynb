{
 "cells": [
  {
   "cell_type": "markdown",
   "metadata": {},
   "source": [
    "---\n",
    "toc: true\n",
    "comments: true\n",
    "layout: notebook\n",
    "title: Deployment \n",
    "courses: { compsci: {week: 19} }\n",
    "type: hacks\n",
    "---"
   ]
  },
  {
   "cell_type": "markdown",
   "metadata": {},
   "source": [
    "## What is Deployment And Why is it Used?\n",
    "- Deployment is used in backend and is used to deploy our website so that it runs on a server. It is useful to test APIs or anything backend related. Our CPT project will be deployed - make sure it's your TEAM project and not INDIVIDUAL (because the CPT is the team project)."
   ]
  },
  {
   "cell_type": "markdown",
   "metadata": {},
   "source": [
    "## Tools \n",
    "\n",
    "### AWS EC2:\n",
    "- AWS EC2, or Amazon Elastic Compute Cloud, provides scalable and secure computing power for various application needs. It offers low-cost, maintenance-free instances accessible from anywhere via the cloud. Essentially, it's where you host your applications remotely, eliminating the need for local hosting. In other words, it's just a cloud computer you can rent so that your server runs online 24/7.\n",
    "\n",
    "### CORS (Cross-Origin Resource Sharing):\n",
    "- CORS defines rules allowing web pages from one domain to request and interact with resources hosted on another domain. It facilitates seamless communication between different domains on the web.\n",
    "\n",
    "### Docker:\n",
    "- Docker and docker-compose simplify web application hosting by automating deployment within lightweight containers. These containers encapsulate all dependencies needed for applications to run efficiently across different environments, such as frameworks like Flask. It's like how you would run `make` for your blog to test things locally before deploying to GitHub Pages.\n",
    "\n",
    "### Nginx:\n",
    "- Nginx is an open-source software serving as a web server, reverse proxy, and performing various functions to manage and locate web applications on a server effectively.\n",
    "\n",
    "### Certbot:\n",
    "- Certbot is a free tool that automates the process of obtaining and managing secure HTTPS certificates from Let's Encrypt. These certificates ensure reliable and secure web traffic, enabling HTTPS connections for websites. A website that is encrypted can be indicated with the little 'lock' icon at the top (may differ between browsers).\n",
    "\n",
    "### DNS:\n",
    "- DNS allows assigning user-friendly names to web servers, translating human-readable domain names (e.g., nighthawkcoders.com) to IP addresses. This simplifies accessing websites while maintaining security and routing efficiency. It's like a home address when compared to latitude and longitude. It's a lot easier to memorize a home address rather than a super long number."
   ]
  },
  {
   "cell_type": "markdown",
   "metadata": {},
   "source": [
    "## Steps for Deployment\n",
    "\n",
    "1. Setting up a backend server:\n",
    "   1. The first crucial step in deployment is having a backend server. This server enables API testing and website deployment, forming the foundation of your application.\n",
    "2. EC2 Configuration:\n",
    "   1. Access AWS IAM User: Begin by logging into your AWS account using IAM user credentials.\n",
    "   2. Launch a New EC2 Instance: Navigate to EC2 and initiate the setup process for a new instance, following the guided steps.\n",
    "   3. Choose an Amazon Machine Image (AMI): Select Ubuntu as the operating system from the available AMIs.\n",
    "   4. Optimize Memory and Disk Usage: Utilize Free Tier options to prevent unnecessary costs, particularly for testing purposes.\n",
    "   5. Configure Security Settings: Enable access for HTTP and HTTPS protocols to ensure smooth operation of your web application.\n",
    "   6. Name Your Security Group (.pem) File: Assign a recognizable name to the security group file for SSH access.\n",
    "   7. Connect to the Instance: Once the instance setup is complete, establish a connection to interact with the virtual machine.\n",
    "3. Deployment Process Overview:\n",
    "   1. After setting up the EC2 instance as outlined above, proceed with the deployment phase.\n",
    "   2. Each EC2 instance can host multiple backend websites, including those of classmates for testing purposes.\n",
    "   3. Connection to the EC2 instance occurs via the cloud. By accessing the instances section, you can establish a connection.\n",
    "   4. Once connected, navigate to the desired instance and initiate the connection process, enabling deployment activities."
   ]
  },
  {
   "cell_type": "markdown",
   "metadata": {},
   "source": [
    "### More Details\n",
    "\n"
   ]
  }
 ],
 "metadata": {
  "language_info": {
   "name": "python"
  }
 },
 "nbformat": 4,
 "nbformat_minor": 2
}
